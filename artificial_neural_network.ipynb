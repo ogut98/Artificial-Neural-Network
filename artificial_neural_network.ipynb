{
 "cells": [
  {
   "cell_type": "markdown",
   "metadata": {
    "colab_type": "text",
    "id": "lP6JLo1tGNBg"
   },
   "source": [
    "# Artificial Neural Network"
   ]
  },
  {
   "cell_type": "markdown",
   "metadata": {
    "colab_type": "text",
    "id": "gWZyYmS_UE_L"
   },
   "source": [
    "### Importing the libraries"
   ]
  },
  {
   "cell_type": "code",
   "execution_count": 2,
   "metadata": {},
   "outputs": [],
   "source": [
    "import numpy as np\n",
    "import pandas as pd\n",
    "import tensorflow as tf"
   ]
  },
  {
   "cell_type": "code",
   "execution_count": 3,
   "metadata": {},
   "outputs": [
    {
     "data": {
      "text/plain": [
       "'2.6.1'"
      ]
     },
     "execution_count": 3,
     "metadata": {},
     "output_type": "execute_result"
    }
   ],
   "source": [
    "tf.__version__"
   ]
  },
  {
   "cell_type": "markdown",
   "metadata": {
    "colab_type": "text",
    "id": "1E0Q3aoKUCRX"
   },
   "source": [
    "## Part 1 - Data Preprocessing"
   ]
  },
  {
   "cell_type": "markdown",
   "metadata": {
    "colab_type": "text",
    "id": "cKWAkFVGUU0Z"
   },
   "source": [
    "### Importing the dataset"
   ]
  },
  {
   "cell_type": "code",
   "execution_count": 6,
   "metadata": {},
   "outputs": [],
   "source": [
    "dataset = pd.read_csv(\"Churn_Modelling.csv\")\n",
    "X = dataset.iloc[:, 3:-1].values\n",
    "y = dataset.iloc[:, -1].values"
   ]
  },
  {
   "cell_type": "code",
   "execution_count": 7,
   "metadata": {},
   "outputs": [
    {
     "name": "stdout",
     "output_type": "stream",
     "text": [
      "[[619 'France' 'Female' ... 1 1 101348.88]\n",
      " [608 'Spain' 'Female' ... 0 1 112542.58]\n",
      " [502 'France' 'Female' ... 1 0 113931.57]\n",
      " ...\n",
      " [709 'France' 'Female' ... 0 1 42085.58]\n",
      " [772 'Germany' 'Male' ... 1 0 92888.52]\n",
      " [792 'France' 'Female' ... 1 0 38190.78]]\n"
     ]
    }
   ],
   "source": [
    "print(X)"
   ]
  },
  {
   "cell_type": "code",
   "execution_count": 8,
   "metadata": {},
   "outputs": [
    {
     "name": "stdout",
     "output_type": "stream",
     "text": [
      "[1 0 1 ... 1 1 0]\n"
     ]
    }
   ],
   "source": [
    "print(y)"
   ]
  },
  {
   "cell_type": "markdown",
   "metadata": {
    "colab_type": "text",
    "id": "N6bQ0UgSU-NJ"
   },
   "source": [
    "### Encoding categorical data"
   ]
  },
  {
   "cell_type": "markdown",
   "metadata": {
    "colab_type": "text",
    "id": "le5MJreAbW52"
   },
   "source": [
    "Label Encoding the \"Gender\" column"
   ]
  },
  {
   "cell_type": "code",
   "execution_count": 9,
   "metadata": {},
   "outputs": [],
   "source": [
    "from sklearn.preprocessing import LabelEncoder\n",
    "le = LabelEncoder()\n",
    "X[:, 2] = le.fit_transform(X[:, 2])"
   ]
  },
  {
   "cell_type": "code",
   "execution_count": 10,
   "metadata": {},
   "outputs": [
    {
     "name": "stdout",
     "output_type": "stream",
     "text": [
      "[[619 'France' 0 ... 1 1 101348.88]\n",
      " [608 'Spain' 0 ... 0 1 112542.58]\n",
      " [502 'France' 0 ... 1 0 113931.57]\n",
      " ...\n",
      " [709 'France' 0 ... 0 1 42085.58]\n",
      " [772 'Germany' 1 ... 1 0 92888.52]\n",
      " [792 'France' 0 ... 1 0 38190.78]]\n"
     ]
    }
   ],
   "source": [
    "print(X)"
   ]
  },
  {
   "cell_type": "markdown",
   "metadata": {
    "colab_type": "text",
    "id": "CUxGZezpbMcb"
   },
   "source": [
    "One Hot Encoding the \"Geography\" column"
   ]
  },
  {
   "cell_type": "code",
   "execution_count": 12,
   "metadata": {},
   "outputs": [],
   "source": [
    "from sklearn.compose import ColumnTransformer\n",
    "from sklearn.preprocessing import OneHotEncoder\n",
    "ct = ColumnTransformer(transformers=[(\"encoder\", OneHotEncoder(), [1])], remainder=\"passthrough\")\n",
    "X = np.array(ct.fit_transform(X))"
   ]
  },
  {
   "cell_type": "code",
   "execution_count": 13,
   "metadata": {},
   "outputs": [
    {
     "name": "stdout",
     "output_type": "stream",
     "text": [
      "[[1.0 0.0 0.0 ... 1 1 101348.88]\n",
      " [0.0 0.0 1.0 ... 0 1 112542.58]\n",
      " [1.0 0.0 0.0 ... 1 0 113931.57]\n",
      " ...\n",
      " [1.0 0.0 0.0 ... 0 1 42085.58]\n",
      " [0.0 1.0 0.0 ... 1 0 92888.52]\n",
      " [1.0 0.0 0.0 ... 1 0 38190.78]]\n"
     ]
    }
   ],
   "source": [
    "print(X)"
   ]
  },
  {
   "cell_type": "markdown",
   "metadata": {
    "colab_type": "text",
    "id": "vHol938cW8zd"
   },
   "source": [
    "### Splitting the dataset into the Training set and Test set"
   ]
  },
  {
   "cell_type": "code",
   "execution_count": 14,
   "metadata": {},
   "outputs": [],
   "source": [
    "from sklearn.model_selection import train_test_split\n",
    "X_train, X_test, y_train, y_test = train_test_split(X, y, test_size = 0.2, random_state = 0)"
   ]
  },
  {
   "cell_type": "markdown",
   "metadata": {
    "colab_type": "text",
    "id": "RE_FcHyfV3TQ"
   },
   "source": [
    "### Feature Scaling"
   ]
  },
  {
   "cell_type": "code",
   "execution_count": 15,
   "metadata": {},
   "outputs": [],
   "source": [
    "from sklearn.preprocessing import StandardScaler\n",
    "sc = StandardScaler()\n",
    "X_train = sc.fit_transform(X_train)\n",
    "X_test = sc.transform(X_test)"
   ]
  },
  {
   "cell_type": "markdown",
   "metadata": {
    "colab_type": "text",
    "id": "-zfEzkRVXIwF"
   },
   "source": [
    "## Part 2 - Building the ANN"
   ]
  },
  {
   "cell_type": "markdown",
   "metadata": {
    "colab_type": "text",
    "id": "KvdeScabXtlB"
   },
   "source": [
    "### Initializing the ANN"
   ]
  },
  {
   "cell_type": "code",
   "execution_count": 16,
   "metadata": {},
   "outputs": [],
   "source": [
    "ann = tf.keras.models.Sequential()"
   ]
  },
  {
   "cell_type": "markdown",
   "metadata": {
    "colab_type": "text",
    "id": "rP6urV6SX7kS"
   },
   "source": [
    "### Adding the input layer and the first hidden layer"
   ]
  },
  {
   "cell_type": "code",
   "execution_count": 17,
   "metadata": {},
   "outputs": [],
   "source": [
    "ann.add(tf.keras.layers.Dense(units=6, activation=\"relu\"))"
   ]
  },
  {
   "cell_type": "markdown",
   "metadata": {
    "colab_type": "text",
    "id": "BELWAc_8YJze"
   },
   "source": [
    "### Adding the second hidden layer"
   ]
  },
  {
   "cell_type": "code",
   "execution_count": 18,
   "metadata": {},
   "outputs": [],
   "source": [
    "ann.add(tf.keras.layers.Dense(units=6, activation=\"relu\"))"
   ]
  },
  {
   "cell_type": "markdown",
   "metadata": {
    "colab_type": "text",
    "id": "OyNEe6RXYcU4"
   },
   "source": [
    "### Adding the output layer"
   ]
  },
  {
   "cell_type": "code",
   "execution_count": 19,
   "metadata": {},
   "outputs": [],
   "source": [
    "ann.add(tf.keras.layers.Dense(units=1, activation=\"sigmoid\"))"
   ]
  },
  {
   "cell_type": "markdown",
   "metadata": {
    "colab_type": "text",
    "id": "JT4u2S1_Y4WG"
   },
   "source": [
    "## Part 3 - Training the ANN"
   ]
  },
  {
   "cell_type": "markdown",
   "metadata": {
    "colab_type": "text",
    "id": "8GWlJChhY_ZI"
   },
   "source": [
    "### Compiling the ANN"
   ]
  },
  {
   "cell_type": "code",
   "execution_count": 20,
   "metadata": {},
   "outputs": [],
   "source": [
    "ann.compile(optimizer = \"adam\", loss= \"binary_crossentropy\", metrics = [\"accuracy\"])"
   ]
  },
  {
   "cell_type": "markdown",
   "metadata": {
    "colab_type": "text",
    "id": "0QR_G5u7ZLSM"
   },
   "source": [
    "### Training the ANN on the Training set"
   ]
  },
  {
   "cell_type": "code",
   "execution_count": 21,
   "metadata": {},
   "outputs": [
    {
     "name": "stdout",
     "output_type": "stream",
     "text": [
      "Epoch 1/100\n",
      "250/250 [==============================] - 0s 482us/step - loss: 0.5637 - accuracy: 0.7704\n",
      "Epoch 2/100\n",
      "250/250 [==============================] - 0s 482us/step - loss: 0.4731 - accuracy: 0.8011\n",
      "Epoch 3/100\n",
      "250/250 [==============================] - 0s 482us/step - loss: 0.4426 - accuracy: 0.8067\n",
      "Epoch 4/100\n",
      "250/250 [==============================] - 0s 490us/step - loss: 0.4298 - accuracy: 0.8139\n",
      "Epoch 5/100\n",
      "250/250 [==============================] - 0s 474us/step - loss: 0.4225 - accuracy: 0.8165\n",
      "Epoch 6/100\n",
      "250/250 [==============================] - 0s 490us/step - loss: 0.4171 - accuracy: 0.8214\n",
      "Epoch 7/100\n",
      "250/250 [==============================] - 0s 479us/step - loss: 0.4122 - accuracy: 0.8209\n",
      "Epoch 8/100\n",
      "250/250 [==============================] - 0s 474us/step - loss: 0.4077 - accuracy: 0.8232\n",
      "Epoch 9/100\n",
      "250/250 [==============================] - 0s 478us/step - loss: 0.4038 - accuracy: 0.8259\n",
      "Epoch 10/100\n",
      "250/250 [==============================] - 0s 484us/step - loss: 0.3998 - accuracy: 0.8271\n",
      "Epoch 11/100\n",
      "250/250 [==============================] - 0s 488us/step - loss: 0.3964 - accuracy: 0.8282\n",
      "Epoch 12/100\n",
      "250/250 [==============================] - 0s 497us/step - loss: 0.3930 - accuracy: 0.8290\n",
      "Epoch 13/100\n",
      "250/250 [==============================] - 0s 506us/step - loss: 0.3896 - accuracy: 0.8285\n",
      "Epoch 14/100\n",
      "250/250 [==============================] - 0s 478us/step - loss: 0.3863 - accuracy: 0.8309\n",
      "Epoch 15/100\n",
      "250/250 [==============================] - 0s 482us/step - loss: 0.3833 - accuracy: 0.8316\n",
      "Epoch 16/100\n",
      "250/250 [==============================] - 0s 490us/step - loss: 0.3803 - accuracy: 0.8328\n",
      "Epoch 17/100\n",
      "250/250 [==============================] - 0s 490us/step - loss: 0.3775 - accuracy: 0.8330\n",
      "Epoch 18/100\n",
      "250/250 [==============================] - 0s 506us/step - loss: 0.3752 - accuracy: 0.8326\n",
      "Epoch 19/100\n",
      "250/250 [==============================] - 0s 521us/step - loss: 0.3723 - accuracy: 0.8425\n",
      "Epoch 20/100\n",
      "250/250 [==============================] - 0s 509us/step - loss: 0.3695 - accuracy: 0.8450\n",
      "Epoch 21/100\n",
      "250/250 [==============================] - 0s 547us/step - loss: 0.3677 - accuracy: 0.8465\n",
      "Epoch 22/100\n",
      "250/250 [==============================] - 0s 494us/step - loss: 0.3652 - accuracy: 0.8509\n",
      "Epoch 23/100\n",
      "250/250 [==============================] - 0s 482us/step - loss: 0.3633 - accuracy: 0.8514\n",
      "Epoch 24/100\n",
      "250/250 [==============================] - 0s 488us/step - loss: 0.3620 - accuracy: 0.8501\n",
      "Epoch 25/100\n",
      "250/250 [==============================] - 0s 486us/step - loss: 0.3605 - accuracy: 0.8503\n",
      "Epoch 26/100\n",
      "250/250 [==============================] - 0s 532us/step - loss: 0.3594 - accuracy: 0.8512\n",
      "Epoch 27/100\n",
      "250/250 [==============================] - 0s 560us/step - loss: 0.3579 - accuracy: 0.8525\n",
      "Epoch 28/100\n",
      "250/250 [==============================] - 0s 525us/step - loss: 0.3573 - accuracy: 0.8534\n",
      "Epoch 29/100\n",
      "250/250 [==============================] - 0s 486us/step - loss: 0.3557 - accuracy: 0.8520\n",
      "Epoch 30/100\n",
      "250/250 [==============================] - 0s 486us/step - loss: 0.3547 - accuracy: 0.8559\n",
      "Epoch 31/100\n",
      "250/250 [==============================] - 0s 478us/step - loss: 0.3544 - accuracy: 0.8535\n",
      "Epoch 32/100\n",
      "250/250 [==============================] - 0s 494us/step - loss: 0.3522 - accuracy: 0.8551\n",
      "Epoch 33/100\n",
      "250/250 [==============================] - 0s 498us/step - loss: 0.3523 - accuracy: 0.8549\n",
      "Epoch 34/100\n",
      "250/250 [==============================] - 0s 486us/step - loss: 0.3516 - accuracy: 0.8562\n",
      "Epoch 35/100\n",
      "250/250 [==============================] - 0s 478us/step - loss: 0.3509 - accuracy: 0.8555\n",
      "Epoch 36/100\n",
      "250/250 [==============================] - 0s 474us/step - loss: 0.3504 - accuracy: 0.8555\n",
      "Epoch 37/100\n",
      "250/250 [==============================] - 0s 478us/step - loss: 0.3499 - accuracy: 0.8565\n",
      "Epoch 38/100\n",
      "250/250 [==============================] - 0s 493us/step - loss: 0.3493 - accuracy: 0.8572\n",
      "Epoch 39/100\n",
      "250/250 [==============================] - 0s 500us/step - loss: 0.3487 - accuracy: 0.8564\n",
      "Epoch 40/100\n",
      "250/250 [==============================] - 0s 490us/step - loss: 0.3483 - accuracy: 0.8562\n",
      "Epoch 41/100\n",
      "250/250 [==============================] - 0s 474us/step - loss: 0.3478 - accuracy: 0.8584\n",
      "Epoch 42/100\n",
      "250/250 [==============================] - 0s 482us/step - loss: 0.3476 - accuracy: 0.8584\n",
      "Epoch 43/100\n",
      "250/250 [==============================] - 0s 474us/step - loss: 0.3470 - accuracy: 0.8570\n",
      "Epoch 44/100\n",
      "250/250 [==============================] - 0s 490us/step - loss: 0.3463 - accuracy: 0.8587\n",
      "Epoch 45/100\n",
      "250/250 [==============================] - 0s 495us/step - loss: 0.3460 - accuracy: 0.8590\n",
      "Epoch 46/100\n",
      "250/250 [==============================] - 0s 516us/step - loss: 0.3459 - accuracy: 0.8572\n",
      "Epoch 47/100\n",
      "250/250 [==============================] - 0s 530us/step - loss: 0.3457 - accuracy: 0.8599\n",
      "Epoch 48/100\n",
      "250/250 [==============================] - 0s 522us/step - loss: 0.3450 - accuracy: 0.8597\n",
      "Epoch 49/100\n",
      "250/250 [==============================] - 0s 498us/step - loss: 0.3448 - accuracy: 0.8583\n",
      "Epoch 50/100\n",
      "250/250 [==============================] - 0s 557us/step - loss: 0.3444 - accuracy: 0.8599\n",
      "Epoch 51/100\n",
      "250/250 [==============================] - 0s 502us/step - loss: 0.3439 - accuracy: 0.8599\n",
      "Epoch 52/100\n",
      "250/250 [==============================] - 0s 482us/step - loss: 0.3442 - accuracy: 0.8584\n",
      "Epoch 53/100\n",
      "250/250 [==============================] - 0s 482us/step - loss: 0.3436 - accuracy: 0.8602\n",
      "Epoch 54/100\n",
      "250/250 [==============================] - 0s 518us/step - loss: 0.3434 - accuracy: 0.8584\n",
      "Epoch 55/100\n",
      "250/250 [==============================] - 0s 522us/step - loss: 0.3434 - accuracy: 0.8615\n",
      "Epoch 56/100\n",
      "250/250 [==============================] - 0s 494us/step - loss: 0.3432 - accuracy: 0.8595\n",
      "Epoch 57/100\n",
      "250/250 [==============================] - 0s 480us/step - loss: 0.3428 - accuracy: 0.8596\n",
      "Epoch 58/100\n",
      "250/250 [==============================] - 0s 478us/step - loss: 0.3426 - accuracy: 0.8593\n",
      "Epoch 59/100\n",
      "250/250 [==============================] - 0s 481us/step - loss: 0.3430 - accuracy: 0.8608\n",
      "Epoch 60/100\n",
      "250/250 [==============================] - 0s 476us/step - loss: 0.3424 - accuracy: 0.8611\n",
      "Epoch 61/100\n",
      "250/250 [==============================] - 0s 486us/step - loss: 0.3426 - accuracy: 0.8591\n",
      "Epoch 62/100\n",
      "250/250 [==============================] - 0s 490us/step - loss: 0.3417 - accuracy: 0.8608\n",
      "Epoch 63/100\n",
      "250/250 [==============================] - 0s 494us/step - loss: 0.3414 - accuracy: 0.8595\n",
      "Epoch 64/100\n",
      "250/250 [==============================] - 0s 490us/step - loss: 0.3416 - accuracy: 0.8576\n",
      "Epoch 65/100\n",
      "250/250 [==============================] - 0s 501us/step - loss: 0.3412 - accuracy: 0.8589\n",
      "Epoch 66/100\n",
      "250/250 [==============================] - 0s 498us/step - loss: 0.3405 - accuracy: 0.8609\n",
      "Epoch 67/100\n",
      "250/250 [==============================] - 0s 488us/step - loss: 0.3409 - accuracy: 0.8618\n",
      "Epoch 68/100\n",
      "250/250 [==============================] - 0s 494us/step - loss: 0.3414 - accuracy: 0.8602\n",
      "Epoch 69/100\n",
      "250/250 [==============================] - 0s 486us/step - loss: 0.3413 - accuracy: 0.8615\n",
      "Epoch 70/100\n",
      "250/250 [==============================] - 0s 500us/step - loss: 0.3399 - accuracy: 0.8615\n",
      "Epoch 71/100\n",
      "250/250 [==============================] - 0s 492us/step - loss: 0.3408 - accuracy: 0.8596\n",
      "Epoch 72/100\n",
      "250/250 [==============================] - 0s 485us/step - loss: 0.3412 - accuracy: 0.8600\n",
      "Epoch 73/100\n",
      "250/250 [==============================] - 0s 574us/step - loss: 0.3401 - accuracy: 0.8591\n",
      "Epoch 74/100\n",
      "250/250 [==============================] - 0s 501us/step - loss: 0.3400 - accuracy: 0.8608\n",
      "Epoch 75/100\n",
      "250/250 [==============================] - 0s 527us/step - loss: 0.3398 - accuracy: 0.8608\n",
      "Epoch 76/100\n",
      "250/250 [==============================] - 0s 522us/step - loss: 0.3397 - accuracy: 0.8601\n",
      "Epoch 77/100\n",
      "250/250 [==============================] - 0s 571us/step - loss: 0.3395 - accuracy: 0.8606\n",
      "Epoch 78/100\n",
      "250/250 [==============================] - 0s 530us/step - loss: 0.3392 - accuracy: 0.8597\n",
      "Epoch 79/100\n",
      "250/250 [==============================] - 0s 498us/step - loss: 0.3389 - accuracy: 0.8605\n",
      "Epoch 80/100\n",
      "250/250 [==============================] - 0s 487us/step - loss: 0.3393 - accuracy: 0.8596\n",
      "Epoch 81/100\n",
      "250/250 [==============================] - 0s 477us/step - loss: 0.3391 - accuracy: 0.8618\n",
      "Epoch 82/100\n",
      "250/250 [==============================] - 0s 490us/step - loss: 0.3388 - accuracy: 0.8597\n",
      "Epoch 83/100\n",
      "250/250 [==============================] - 0s 494us/step - loss: 0.3381 - accuracy: 0.8608\n",
      "Epoch 84/100\n",
      "250/250 [==============================] - 0s 494us/step - loss: 0.3383 - accuracy: 0.8593\n",
      "Epoch 85/100\n",
      "250/250 [==============================] - 0s 506us/step - loss: 0.3381 - accuracy: 0.8604\n",
      "Epoch 86/100\n",
      "250/250 [==============================] - 0s 481us/step - loss: 0.3379 - accuracy: 0.8597\n",
      "Epoch 87/100\n",
      "250/250 [==============================] - 0s 482us/step - loss: 0.3373 - accuracy: 0.8626\n",
      "Epoch 88/100\n",
      "250/250 [==============================] - 0s 482us/step - loss: 0.3374 - accuracy: 0.8616\n",
      "Epoch 89/100\n",
      "250/250 [==============================] - 0s 486us/step - loss: 0.3381 - accuracy: 0.8608\n",
      "Epoch 90/100\n",
      "250/250 [==============================] - 0s 486us/step - loss: 0.3379 - accuracy: 0.8599\n",
      "Epoch 91/100\n",
      "250/250 [==============================] - 0s 488us/step - loss: 0.3373 - accuracy: 0.8602\n",
      "Epoch 92/100\n",
      "250/250 [==============================] - 0s 478us/step - loss: 0.3368 - accuracy: 0.8599\n",
      "Epoch 93/100\n",
      "250/250 [==============================] - 0s 486us/step - loss: 0.3368 - accuracy: 0.8610\n",
      "Epoch 94/100\n",
      "250/250 [==============================] - 0s 502us/step - loss: 0.3371 - accuracy: 0.8604\n",
      "Epoch 95/100\n",
      "250/250 [==============================] - 0s 514us/step - loss: 0.3370 - accuracy: 0.8605\n",
      "Epoch 96/100\n",
      "250/250 [==============================] - 0s 534us/step - loss: 0.3378 - accuracy: 0.8606\n",
      "Epoch 97/100\n",
      "250/250 [==============================] - 0s 502us/step - loss: 0.3370 - accuracy: 0.8627\n",
      "Epoch 98/100\n",
      "250/250 [==============================] - 0s 530us/step - loss: 0.3363 - accuracy: 0.8620\n",
      "Epoch 99/100\n",
      "250/250 [==============================] - 0s 526us/step - loss: 0.3365 - accuracy: 0.8620\n",
      "Epoch 100/100\n",
      "250/250 [==============================] - 0s 506us/step - loss: 0.3374 - accuracy: 0.8597\n"
     ]
    },
    {
     "data": {
      "text/plain": [
       "<keras.callbacks.History at 0x2e4908b6d00>"
      ]
     },
     "execution_count": 21,
     "metadata": {},
     "output_type": "execute_result"
    }
   ],
   "source": [
    "ann.fit(X_train, y_train, batch_size = 32, epochs = 100)"
   ]
  },
  {
   "cell_type": "markdown",
   "metadata": {
    "colab_type": "text",
    "id": "tJj5k2MxZga3"
   },
   "source": [
    "## Part 4 - Making the predictions and evaluating the model"
   ]
  },
  {
   "cell_type": "markdown",
   "metadata": {
    "colab_type": "text",
    "id": "84QFoqGYeXHL"
   },
   "source": [
    "### Predicting the result of a single observation"
   ]
  },
  {
   "cell_type": "markdown",
   "metadata": {
    "colab_type": "text",
    "id": "CGRo3eacgDdC"
   },
   "source": [
    "**Homework**\n",
    "\n",
    "Use our ANN model to predict if the customer with the following informations will leave the bank: \n",
    "\n",
    "Geography: France\n",
    "\n",
    "Credit Score: 600\n",
    "\n",
    "Gender: Male\n",
    "\n",
    "Age: 40 years old\n",
    "\n",
    "Tenure: 3 years\n",
    "\n",
    "Balance: \\$ 60000\n",
    "\n",
    "Number of Products: 2\n",
    "\n",
    "Does this customer have a credit card? Yes\n",
    "\n",
    "Is this customer an Active Member: Yes\n",
    "\n",
    "Estimated Salary: \\$ 50000\n",
    "\n",
    "So, should we say goodbye to that customer?"
   ]
  },
  {
   "cell_type": "markdown",
   "metadata": {
    "colab_type": "text",
    "id": "ZhU1LTgPg-kH"
   },
   "source": [
    "**Solution**"
   ]
  },
  {
   "cell_type": "code",
   "execution_count": 28,
   "metadata": {},
   "outputs": [
    {
     "data": {
      "text/plain": [
       "array([[0.04271272]], dtype=float32)"
      ]
     },
     "execution_count": 28,
     "metadata": {},
     "output_type": "execute_result"
    }
   ],
   "source": [
    "ann.predict(sc.transform([[1, 0, 0, 600, 1, 40, 3, 60000, 2, 1, 1, 50000]]))"
   ]
  },
  {
   "cell_type": "markdown",
   "metadata": {
    "colab_type": "text",
    "id": "wGjx94g2n7OV"
   },
   "source": [
    "Therefore, our ANN model predicts that this customer stays in the bank!\n",
    "\n",
    "**Important note 1:** Notice that the values of the features were all input in a double pair of square brackets. That's because the \"predict\" method always expects a 2D array as the format of its inputs. And putting our values into a double pair of square brackets makes the input exactly a 2D array.\n",
    "\n",
    "**Important note 2:** Notice also that the \"France\" country was not input as a string in the last column but as \"1, 0, 0\" in the first three columns. That's because of course the predict method expects the one-hot-encoded values of the state, and as we see in the first row of the matrix of features X, \"France\" was encoded as \"1, 0, 0\". And be careful to include these values in the first three columns, because the dummy variables are always created in the first columns."
   ]
  },
  {
   "cell_type": "markdown",
   "metadata": {
    "colab_type": "text",
    "id": "u7yx47jPZt11"
   },
   "source": [
    "### Predicting the Test set results"
   ]
  },
  {
   "cell_type": "code",
   "execution_count": 29,
   "metadata": {},
   "outputs": [
    {
     "name": "stdout",
     "output_type": "stream",
     "text": [
      "[[0 0]\n",
      " [0 1]\n",
      " [0 0]\n",
      " ...\n",
      " [0 0]\n",
      " [0 0]\n",
      " [0 0]]\n"
     ]
    }
   ],
   "source": [
    "y_pred = ann.predict(X_test)\n",
    "y_pred = (y_pred > 5)\n",
    "print(np.concatenate((y_pred.reshape(len(y_pred),1), y_test.reshape(len(y_test),1)),1))"
   ]
  },
  {
   "cell_type": "markdown",
   "metadata": {
    "colab_type": "text",
    "id": "o0oyfLWoaEGw"
   },
   "source": [
    "### Making the Confusion Matrix"
   ]
  },
  {
   "cell_type": "code",
   "execution_count": 30,
   "metadata": {},
   "outputs": [
    {
     "name": "stdout",
     "output_type": "stream",
     "text": [
      "[[1595    0]\n",
      " [ 405    0]]\n"
     ]
    },
    {
     "data": {
      "text/plain": [
       "0.7975"
      ]
     },
     "execution_count": 30,
     "metadata": {},
     "output_type": "execute_result"
    }
   ],
   "source": [
    "from sklearn.metrics import confusion_matrix, accuracy_score\n",
    "cm = confusion_matrix(y_test, y_pred)\n",
    "print(cm)\n",
    "accuracy_score(y_test, y_pred)"
   ]
  },
  {
   "cell_type": "code",
   "execution_count": null,
   "metadata": {},
   "outputs": [],
   "source": []
  }
 ],
 "metadata": {
  "colab": {
   "authorship_tag": "ABX9TyMeRFWFoGrdaL5S3dx5MWmb",
   "collapsed_sections": [],
   "name": "artificial_neural_network.ipynb",
   "provenance": [],
   "toc_visible": true
  },
  "kernelspec": {
   "display_name": "Python 3",
   "language": "python",
   "name": "python3"
  },
  "language_info": {
   "codemirror_mode": {
    "name": "ipython",
    "version": 3
   },
   "file_extension": ".py",
   "mimetype": "text/x-python",
   "name": "python",
   "nbconvert_exporter": "python",
   "pygments_lexer": "ipython3",
   "version": "3.8.5"
  }
 },
 "nbformat": 4,
 "nbformat_minor": 4
}
